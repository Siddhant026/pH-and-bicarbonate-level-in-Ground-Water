{
 "cells": [
  {
   "cell_type": "markdown",
   "metadata": {},
   "source": [
    "# STATISTICS PROJECT: pH and bicarbonate Levels in Ground-Water\n",
    "by Siddhant Sharma (18csu210), Shubham Popli (18csu209), Utkarsh (18csu223)"
   ]
  },
  {
   "cell_type": "markdown",
   "metadata": {},
   "source": [
    "# Introduction"
   ]
  },
  {
   "cell_type": "markdown",
   "metadata": {},
   "source": [
    "Our topic is an inferntial statstics project where we are estimating pH and bicarbonate Levels in Ground-Water of Population i.e of all the Ground-Water on Earth using our sample which has pH and bicarbonate Levels in Ground-Water of 34 wells in Northwest Texas. The population mean of pH Level in Ground-Water is 7.25 and the population mean of bicarbonate Level in Ground-Water is 126.4 ppm (parts per million).\n",
    "Reference: Union Carbide Technical Report K/UR-1\n",
    "Link: https://college.cengage.com/mathematics/brase/understandable_statistics/7e/students/datasets/svls/frames/svls16.html"
   ]
  },
  {
   "cell_type": "markdown",
   "metadata": {},
   "source": [
    "# Problem Statement"
   ]
  },
  {
   "cell_type": "markdown",
   "metadata": {},
   "source": [
    "bicarbonate, which is a part of sodium bicarbonate is a famous antacid which neutralizes the acid HCl in our stomach\n",
    "Many people think that bicarbonate is basic in nature and it in general reduces the pH level\n",
    "So we are analysing the data and concluding that the amount of Bicarbonate does not affect the pH level.\n"
   ]
  },
  {
   "cell_type": "code",
   "execution_count": 1,
   "metadata": {},
   "outputs": [],
   "source": [
    "#packages \n",
    "\n",
    "import seaborn as sns\n",
    "%matplotlib inline\n",
    "import pandas as pd\n",
    "import numpy as np\n",
    "import matplotlib.pyplot as plt\n",
    "from scipy.stats import norm\n",
    "from scipy.stats import sem, t\n",
    "from scipy import mean\n",
    "from scipy import stats"
   ]
  },
  {
   "cell_type": "code",
   "execution_count": 2,
   "metadata": {},
   "outputs": [
    {
     "data": {
      "text/html": [
       "<div>\n",
       "<style scoped>\n",
       "    .dataframe tbody tr th:only-of-type {\n",
       "        vertical-align: middle;\n",
       "    }\n",
       "\n",
       "    .dataframe tbody tr th {\n",
       "        vertical-align: top;\n",
       "    }\n",
       "\n",
       "    .dataframe thead th {\n",
       "        text-align: right;\n",
       "    }\n",
       "</style>\n",
       "<table border=\"1\" class=\"dataframe\">\n",
       "  <thead>\n",
       "    <tr style=\"text-align: right;\">\n",
       "      <th></th>\n",
       "      <th>pH</th>\n",
       "      <th>bicarbonate ppm</th>\n",
       "    </tr>\n",
       "  </thead>\n",
       "  <tbody>\n",
       "    <tr>\n",
       "      <th>0</th>\n",
       "      <td>7.6</td>\n",
       "      <td>157</td>\n",
       "    </tr>\n",
       "    <tr>\n",
       "      <th>1</th>\n",
       "      <td>7.1</td>\n",
       "      <td>174</td>\n",
       "    </tr>\n",
       "    <tr>\n",
       "      <th>2</th>\n",
       "      <td>8.2</td>\n",
       "      <td>175</td>\n",
       "    </tr>\n",
       "    <tr>\n",
       "      <th>3</th>\n",
       "      <td>7.5</td>\n",
       "      <td>188</td>\n",
       "    </tr>\n",
       "    <tr>\n",
       "      <th>4</th>\n",
       "      <td>7.4</td>\n",
       "      <td>171</td>\n",
       "    </tr>\n",
       "    <tr>\n",
       "      <th>5</th>\n",
       "      <td>7.8</td>\n",
       "      <td>143</td>\n",
       "    </tr>\n",
       "    <tr>\n",
       "      <th>6</th>\n",
       "      <td>7.3</td>\n",
       "      <td>217</td>\n",
       "    </tr>\n",
       "    <tr>\n",
       "      <th>7</th>\n",
       "      <td>8.0</td>\n",
       "      <td>190</td>\n",
       "    </tr>\n",
       "    <tr>\n",
       "      <th>8</th>\n",
       "      <td>7.1</td>\n",
       "      <td>142</td>\n",
       "    </tr>\n",
       "    <tr>\n",
       "      <th>9</th>\n",
       "      <td>7.5</td>\n",
       "      <td>190</td>\n",
       "    </tr>\n",
       "    <tr>\n",
       "      <th>10</th>\n",
       "      <td>8.1</td>\n",
       "      <td>215</td>\n",
       "    </tr>\n",
       "    <tr>\n",
       "      <th>11</th>\n",
       "      <td>7.0</td>\n",
       "      <td>199</td>\n",
       "    </tr>\n",
       "    <tr>\n",
       "      <th>12</th>\n",
       "      <td>7.3</td>\n",
       "      <td>262</td>\n",
       "    </tr>\n",
       "    <tr>\n",
       "      <th>13</th>\n",
       "      <td>7.8</td>\n",
       "      <td>105</td>\n",
       "    </tr>\n",
       "    <tr>\n",
       "      <th>14</th>\n",
       "      <td>7.3</td>\n",
       "      <td>121</td>\n",
       "    </tr>\n",
       "    <tr>\n",
       "      <th>15</th>\n",
       "      <td>8.0</td>\n",
       "      <td>81</td>\n",
       "    </tr>\n",
       "    <tr>\n",
       "      <th>16</th>\n",
       "      <td>8.5</td>\n",
       "      <td>82</td>\n",
       "    </tr>\n",
       "    <tr>\n",
       "      <th>17</th>\n",
       "      <td>7.1</td>\n",
       "      <td>210</td>\n",
       "    </tr>\n",
       "    <tr>\n",
       "      <th>18</th>\n",
       "      <td>8.2</td>\n",
       "      <td>202</td>\n",
       "    </tr>\n",
       "    <tr>\n",
       "      <th>19</th>\n",
       "      <td>7.9</td>\n",
       "      <td>155</td>\n",
       "    </tr>\n",
       "    <tr>\n",
       "      <th>20</th>\n",
       "      <td>7.6</td>\n",
       "      <td>157</td>\n",
       "    </tr>\n",
       "    <tr>\n",
       "      <th>21</th>\n",
       "      <td>8.8</td>\n",
       "      <td>147</td>\n",
       "    </tr>\n",
       "    <tr>\n",
       "      <th>22</th>\n",
       "      <td>7.2</td>\n",
       "      <td>133</td>\n",
       "    </tr>\n",
       "    <tr>\n",
       "      <th>23</th>\n",
       "      <td>7.9</td>\n",
       "      <td>53</td>\n",
       "    </tr>\n",
       "    <tr>\n",
       "      <th>24</th>\n",
       "      <td>8.1</td>\n",
       "      <td>56</td>\n",
       "    </tr>\n",
       "    <tr>\n",
       "      <th>25</th>\n",
       "      <td>7.7</td>\n",
       "      <td>113</td>\n",
       "    </tr>\n",
       "    <tr>\n",
       "      <th>26</th>\n",
       "      <td>8.4</td>\n",
       "      <td>35</td>\n",
       "    </tr>\n",
       "    <tr>\n",
       "      <th>27</th>\n",
       "      <td>7.4</td>\n",
       "      <td>125</td>\n",
       "    </tr>\n",
       "    <tr>\n",
       "      <th>28</th>\n",
       "      <td>7.3</td>\n",
       "      <td>76</td>\n",
       "    </tr>\n",
       "    <tr>\n",
       "      <th>29</th>\n",
       "      <td>8.5</td>\n",
       "      <td>48</td>\n",
       "    </tr>\n",
       "    <tr>\n",
       "      <th>30</th>\n",
       "      <td>7.8</td>\n",
       "      <td>147</td>\n",
       "    </tr>\n",
       "    <tr>\n",
       "      <th>31</th>\n",
       "      <td>6.7</td>\n",
       "      <td>117</td>\n",
       "    </tr>\n",
       "    <tr>\n",
       "      <th>32</th>\n",
       "      <td>7.1</td>\n",
       "      <td>182</td>\n",
       "    </tr>\n",
       "    <tr>\n",
       "      <th>33</th>\n",
       "      <td>7.3</td>\n",
       "      <td>87</td>\n",
       "    </tr>\n",
       "  </tbody>\n",
       "</table>\n",
       "</div>"
      ],
      "text/plain": [
       "     pH  bicarbonate ppm\n",
       "0   7.6              157\n",
       "1   7.1              174\n",
       "2   8.2              175\n",
       "3   7.5              188\n",
       "4   7.4              171\n",
       "5   7.8              143\n",
       "6   7.3              217\n",
       "7   8.0              190\n",
       "8   7.1              142\n",
       "9   7.5              190\n",
       "10  8.1              215\n",
       "11  7.0              199\n",
       "12  7.3              262\n",
       "13  7.8              105\n",
       "14  7.3              121\n",
       "15  8.0               81\n",
       "16  8.5               82\n",
       "17  7.1              210\n",
       "18  8.2              202\n",
       "19  7.9              155\n",
       "20  7.6              157\n",
       "21  8.8              147\n",
       "22  7.2              133\n",
       "23  7.9               53\n",
       "24  8.1               56\n",
       "25  7.7              113\n",
       "26  8.4               35\n",
       "27  7.4              125\n",
       "28  7.3               76\n",
       "29  8.5               48\n",
       "30  7.8              147\n",
       "31  6.7              117\n",
       "32  7.1              182\n",
       "33  7.3               87"
      ]
     },
     "execution_count": 2,
     "metadata": {},
     "output_type": "execute_result"
    }
   ],
   "source": [
    "GroundWater=pd.read_csv(\"Ground_Water.csv\")\n",
    "GroundWater"
   ]
  },
  {
   "cell_type": "markdown",
   "metadata": {},
   "source": [
    "In the following data\n",
    "X = pH of well water\n",
    "Y = Bicarbonate (parts per million) of well water"
   ]
  },
  {
   "cell_type": "markdown",
   "metadata": {},
   "source": [
    "# Brief Description of The Dataset:"
   ]
  },
  {
   "cell_type": "code",
   "execution_count": 3,
   "metadata": {},
   "outputs": [
    {
     "data": {
      "text/plain": [
       "<matplotlib.axes._subplots.AxesSubplot at 0x172db600f98>"
      ]
     },
     "execution_count": 3,
     "metadata": {},
     "output_type": "execute_result"
    },
    {
     "data": {
      "image/png": "[encoded data removed]",
      "text/plain": [
       "<Figure size 432x288 with 1 Axes>"
      ]
     },
     "metadata": {
      "needs_background": "light"
     },
     "output_type": "display_data"
    }
   ],
   "source": [
    "GroundWater.plot.bar()"
   ]
  },
  {
   "cell_type": "markdown",
   "metadata": {},
   "source": [
    "This is a split-category bar chart. This sort of chart is useful if you want to compare frequencies, but it’s difficult to see proportions and percentages.In this chart x=ph value whereas on y-axis there is range of bicarbonate(ppm)."
   ]
  },
  {
   "cell_type": "code",
   "execution_count": 4,
   "metadata": {},
   "outputs": [
    {
     "data": {
      "text/plain": [
       "<seaborn.axisgrid.JointGrid at 0x172db8d5080>"
      ]
     },
     "execution_count": 4,
     "metadata": {},
     "output_type": "execute_result"
    },
    {
     "data": {
      "image/png": "[encoded data removed]",
      "text/plain": [
       "<Figure size 432x432 with 3 Axes>"
      ]
     },
     "metadata": {
      "needs_background": "light"
     },
     "output_type": "display_data"
    }
   ],
   "source": [
    "sns.jointplot(x='pH',y='bicarbonate ppm',data=GroundWater,kind='resid')"
   ]
  },
  {
   "cell_type": "markdown",
   "metadata": {},
   "source": [
    "jointplot() allows you to basically match up two distplots for bivariate data. With your choice of what kind of  parameter to compare with.\n",
    "Here x=ph range and at y=bicarbonate(ppm)."
   ]
  },
  {
   "cell_type": "code",
   "execution_count": 6,
   "metadata": {},
   "outputs": [
    {
     "data": {
      "text/plain": [
       "<matplotlib.axes._subplots.AxesSubplot at 0x172dcb73f60>"
      ]
     },
     "execution_count": 6,
     "metadata": {},
     "output_type": "execute_result"
    },
    {
     "data": {
      "image/png": "[encoded data removed]",
      "text/plain": [
       "<Figure size 432x288 with 1 Axes>"
      ]
     },
     "metadata": {
      "needs_background": "light"
     },
     "output_type": "display_data"
    }
   ],
   "source": [
    "sns.barplot(x='pH',y='bicarbonate ppm',data=GroundWater)"
   ]
  },
  {
   "cell_type": "markdown",
   "metadata": {},
   "source": [
    "Barplot is a general plot that allows you to aggregate the categorical data based off some function, by default the mean\n",
    "Here at x=p-h range Y=bicarbonate(ppm).The maximum value is of p-h range 7.3 whose bicarbonate level is more than 200."
   ]
  },
  {
   "cell_type": "markdown",
   "metadata": {},
   "source": [
    "# Hypothesis Testing of pH (t-test)"
   ]
  },
  {
   "cell_type": "markdown",
   "metadata": {},
   "source": [
    "Ho: population mean of pH = 7.25\n",
    "Ha: population mean of pH != 7.25\n",
    "\n",
    "confidence=0.95\n",
    "n=34\n",
    "df=33\n",
    "SD=standard deviation\n",
    "formula: t-test = (sample mean-population mean)/(sample SD/sqrt(n))\n",
    "method: Critical Value Method"
   ]
  },
  {
   "cell_type": "code",
   "execution_count": 7,
   "metadata": {},
   "outputs": [],
   "source": [
    "pH_population_mean = 7.25\n",
    "pH_mean=GroundWater.mean().iloc[0]"
   ]
  },
  {
   "cell_type": "code",
   "execution_count": 8,
   "metadata": {},
   "outputs": [],
   "source": [
    "pH_standard_deviation = GroundWater.std()[0]\n",
    "\n",
    "pH_standard_error = stats.sem(GroundWater)[0] \n",
    "\n",
    "pH_conf_int = stats.t.interval(0.95, len(GroundWater)-1, loc=pH_population_mean, scale=pH_standard_error)"
   ]
  },
  {
   "cell_type": "code",
   "execution_count": 9,
   "metadata": {},
   "outputs": [
    {
     "data": {
      "text/plain": [
       "(7.075010789381968, 7.424989210618032)"
      ]
     },
     "execution_count": 9,
     "metadata": {},
     "output_type": "execute_result"
    }
   ],
   "source": [
    "pH_conf_int"
   ]
  },
  {
   "cell_type": "code",
   "execution_count": 10,
   "metadata": {},
   "outputs": [
    {
     "data": {
      "text/plain": [
       "7.6617647058823515"
      ]
     },
     "execution_count": 10,
     "metadata": {},
     "output_type": "execute_result"
    }
   ],
   "source": [
    "pH_mean"
   ]
  },
  {
   "cell_type": "code",
   "execution_count": 11,
   "metadata": {},
   "outputs": [
    {
     "name": "stdout",
     "output_type": "stream",
     "text": [
      "Null Hypothesis Rejected\n"
     ]
    }
   ],
   "source": [
    "if pH_mean>pH_conf_int[0] and pH_mean<pH_conf_int[1]:\n",
    "    print(\"Null Hypothesis Not Rejected\")\n",
    "else :\n",
    "    print(\"Null Hypothesis Rejected\")"
   ]
  },
  {
   "cell_type": "markdown",
   "metadata": {},
   "source": [
    "Conclusion-"
   ]
  },
  {
   "cell_type": "markdown",
   "metadata": {},
   "source": [
    "As sample mean is outside of the range (7.075010789381968, 7.424989210618032)\n",
    "Null Hypothesis Rejected"
   ]
  },
  {
   "cell_type": "markdown",
   "metadata": {},
   "source": [
    "# Hypothesis Testing of bicarbonate level in ppm (t-test)"
   ]
  },
  {
   "cell_type": "markdown",
   "metadata": {},
   "source": [
    "Ho: population mean of bicarbonate = 126.4\n",
    "Ha: population mean of bicarbonate != 126.4\n",
    "\n",
    "confidence=0.95\n",
    "n=34\n",
    "df=33\n",
    "SD=standard deviation\n",
    "formula: t-test = (sample mean-population mean)/(sample SD/sqrt(n))\n",
    "method: Critical Value Method"
   ]
  },
  {
   "cell_type": "code",
   "execution_count": 12,
   "metadata": {},
   "outputs": [],
   "source": [
    "bc_population_mean = 126.4\n",
    "bc_mean=GroundWater.mean().iloc[1]"
   ]
  },
  {
   "cell_type": "code",
   "execution_count": 13,
   "metadata": {},
   "outputs": [],
   "source": [
    "bc_standard_deviation = GroundWater.std()[1]\n",
    "\n",
    "bc_standard_error = stats.sem(GroundWater)[1] \n",
    "\n",
    "bc_conf_int = stats.t.interval(0.95, len(GroundWater)-1, loc=bc_population_mean, scale=bc_standard_error)"
   ]
  },
  {
   "cell_type": "code",
   "execution_count": 14,
   "metadata": {},
   "outputs": [
    {
     "data": {
      "text/plain": [
       "(106.9348713881959, 145.8651286118041)"
      ]
     },
     "execution_count": 14,
     "metadata": {},
     "output_type": "execute_result"
    }
   ],
   "source": [
    "bc_conf_int"
   ]
  },
  {
   "cell_type": "code",
   "execution_count": 15,
   "metadata": {},
   "outputs": [
    {
     "data": {
      "text/plain": [
       "142.7941176470588"
      ]
     },
     "execution_count": 15,
     "metadata": {},
     "output_type": "execute_result"
    }
   ],
   "source": [
    "bc_mean"
   ]
  },
  {
   "cell_type": "code",
   "execution_count": 16,
   "metadata": {},
   "outputs": [
    {
     "name": "stdout",
     "output_type": "stream",
     "text": [
      "Null Hypothesis Not Rejected\n"
     ]
    }
   ],
   "source": [
    "if bc_mean>bc_conf_int[0] and bc_mean<bc_conf_int[1]:\n",
    "    print(\"Null Hypothesis Not Rejected\")\n",
    "else :\n",
    "    print(\"Null Hypothesis Rejected\")"
   ]
  },
  {
   "cell_type": "markdown",
   "metadata": {},
   "source": [
    "Conclusion-"
   ]
  },
  {
   "cell_type": "markdown",
   "metadata": {},
   "source": [
    "As sample mean is inside of the range (106.9348713881959, 145.8651286118041)\n",
    "Null Hypothesis Not Rejected"
   ]
  },
  {
   "cell_type": "markdown",
   "metadata": {},
   "source": [
    "# Correlation between X and Y:"
   ]
  },
  {
   "cell_type": "code",
   "execution_count": 17,
   "metadata": {},
   "outputs": [
    {
     "name": "stdout",
     "output_type": "stream",
     "text": [
      "[7.6 7.1 8.2 7.5 7.4 7.8 7.3 8.  7.1 7.5 8.1 7.  7.3 7.8 7.3 8.  8.5 7.1\n",
      " 8.2 7.9 7.6 8.8 7.2 7.9 8.1 7.7 8.4 7.4 7.3 8.5 7.8 6.7 7.1 7.3]\n",
      "[157. 174. 175. 188. 171. 143. 217. 190. 142. 190. 215. 199. 262. 105.\n",
      " 121.  81.  82. 210. 202. 155. 157. 147. 133.  53.  56. 113.  35. 125.\n",
      "  76.  48. 147. 117. 182.  87.]\n"
     ]
    },
    {
     "name": "stderr",
     "output_type": "stream",
     "text": [
      "C:\\Users\\Sanjay\\Anaconda3\\lib\\site-packages\\ipykernel_launcher.py:6: DeprecationWarning: in the future out of bounds indices will raise an error instead of being ignored by `numpy.delete`.\n",
      "  \n",
      "C:\\Users\\Sanjay\\Anaconda3\\lib\\site-packages\\ipykernel_launcher.py:7: DeprecationWarning: in the future out of bounds indices will raise an error instead of being ignored by `numpy.delete`.\n",
      "  import sys\n"
     ]
    }
   ],
   "source": [
    "#convert dataframe to matrix\n",
    "conv_arr= GroundWater.values\n",
    "\n",
    "#split matrix into 3 columns each into 1d array\n",
    "\n",
    "arr1 = np.delete(conv_arr,[1,2],axis=1) \n",
    "arr2 = np.delete(conv_arr,[0,2],axis=1) \n",
    "arr3 = np.delete(conv_arr,[0,1],axis=1) \n",
    "\n",
    "#converting into 1D array\n",
    "arr1 = arr1.ravel()\n",
    "arr2 = arr2.ravel()\n",
    "\n",
    "print(arr1)\n",
    "print(arr2)"
   ]
  },
  {
   "cell_type": "code",
   "execution_count": 18,
   "metadata": {},
   "outputs": [
    {
     "name": "stdout",
     "output_type": "stream",
     "text": [
      "-9.219636678200914\n"
     ]
    }
   ],
   "source": [
    "x=arr1\n",
    "y=arr2\n",
    "\n",
    "# number of observations/points \n",
    "n = np.size(x) \n",
    "\n",
    "# mean of x and y vector \n",
    "m_x, m_y = np.mean(x), np.mean(y) \n",
    "\n",
    "# calculating cross-deviation and deviation about x \n",
    "SS_xy = np.sum(y*x) - n*m_y*m_x\n",
    "\n",
    "Covariance = SS_xy/n\n",
    "\n",
    "print(Covariance)"
   ]
  },
  {
   "cell_type": "markdown",
   "metadata": {},
   "source": [
    "Covariance(x,y) = SS_xy/n = -9.219636678200914"
   ]
  },
  {
   "cell_type": "code",
   "execution_count": 19,
   "metadata": {},
   "outputs": [
    {
     "data": {
      "text/html": [
       "<div>\n",
       "<style scoped>\n",
       "    .dataframe tbody tr th:only-of-type {\n",
       "        vertical-align: middle;\n",
       "    }\n",
       "\n",
       "    .dataframe tbody tr th {\n",
       "        vertical-align: top;\n",
       "    }\n",
       "\n",
       "    .dataframe thead th {\n",
       "        text-align: right;\n",
       "    }\n",
       "</style>\n",
       "<table border=\"1\" class=\"dataframe\">\n",
       "  <thead>\n",
       "    <tr style=\"text-align: right;\">\n",
       "      <th></th>\n",
       "      <th>pH</th>\n",
       "      <th>bicarbonate ppm</th>\n",
       "    </tr>\n",
       "  </thead>\n",
       "  <tbody>\n",
       "    <tr>\n",
       "      <th>pH</th>\n",
       "      <td>1.000000</td>\n",
       "      <td>-0.339511</td>\n",
       "    </tr>\n",
       "    <tr>\n",
       "      <th>bicarbonate ppm</th>\n",
       "      <td>-0.339511</td>\n",
       "      <td>1.000000</td>\n",
       "    </tr>\n",
       "  </tbody>\n",
       "</table>\n",
       "</div>"
      ],
      "text/plain": [
       "                       pH  bicarbonate ppm\n",
       "pH               1.000000        -0.339511\n",
       "bicarbonate ppm -0.339511         1.000000"
      ]
     },
     "execution_count": 19,
     "metadata": {},
     "output_type": "execute_result"
    }
   ],
   "source": [
    "corelation =GroundWater.corr\n",
    "corelation()"
   ]
  },
  {
   "cell_type": "markdown",
   "metadata": {},
   "source": [
    "Correlation coefficient(r) = -0.339511"
   ]
  },
  {
   "cell_type": "markdown",
   "metadata": {},
   "source": [
    "# Regression line between X and Y:"
   ]
  },
  {
   "cell_type": "code",
   "execution_count": 20,
   "metadata": {},
   "outputs": [
    {
     "name": "stdout",
     "output_type": "stream",
     "text": [
      "432.14715991637104\n",
      "-37.76584812728067\n"
     ]
    }
   ],
   "source": [
    "x=arr1\n",
    "y=arr2\n",
    "\n",
    "# number of observations/points \n",
    "n = np.size(x) \n",
    "\n",
    "# mean of x and y vector \n",
    "m_x, m_y = np.mean(x), np.mean(y) \n",
    "\n",
    "# calculating cross-deviation and deviation about x \n",
    "SS_xy = np.sum(y*x) - n*m_y*m_x \n",
    "SS_xx = np.sum(x*x) - n*m_x*m_x \n",
    "\n",
    "# calculating regression coefficients \n",
    "b_1 = SS_xy / SS_xx \n",
    "b_0 = m_y - b_1*m_x \n",
    "\n",
    "print(b_0)\n",
    "print(b_1)"
   ]
  },
  {
   "cell_type": "markdown",
   "metadata": {},
   "source": [
    "regression line is : y = b_0 + b_1*x\n",
    "                     y = 432.14715991637104 - 37.76584812728067*x"
   ]
  },
  {
   "cell_type": "code",
   "execution_count": 21,
   "metadata": {},
   "outputs": [
    {
     "name": "stdout",
     "output_type": "stream",
     "text": [
      "102703.55882352951\n"
     ]
    }
   ],
   "source": [
    "SS_yy = np.sum(y*y) - n*m_y*m_y\n",
    "print(SS_yy)"
   ]
  },
  {
   "cell_type": "code",
   "execution_count": 22,
   "metadata": {},
   "outputs": [
    {
     "name": "stdout",
     "output_type": "stream",
     "text": [
      "0.11526739372275431\n"
     ]
    }
   ],
   "source": [
    "r2=(b_1*b_1*SS_xx)/SS_yy\n",
    "print(r2)"
   ]
  },
  {
   "cell_type": "markdown",
   "metadata": {},
   "source": [
    "COEFFICIENT OF DETERMINATION (r^2) = (b_1*b_1*SS_xx)/SS_yy = 0.11526739372275431"
   ]
  },
  {
   "cell_type": "markdown",
   "metadata": {},
   "source": [
    "# Regression Plot:"
   ]
  },
  {
   "cell_type": "code",
   "execution_count": 23,
   "metadata": {},
   "outputs": [
    {
     "data": {
      "text/plain": [
       "<seaborn.axisgrid.FacetGrid at 0x172dcc37dd8>"
      ]
     },
     "execution_count": 23,
     "metadata": {},
     "output_type": "execute_result"
    },
    {
     "data": {
      "image/png": "[encoded data removed]",
      "text/plain": [
       "<Figure size 360x360 with 1 Axes>"
      ]
     },
     "metadata": {
      "needs_background": "light"
     },
     "output_type": "display_data"
    }
   ],
   "source": [
    "fig=sns.lmplot(x='bicarbonate ppm',y='pH',data=GroundWater)\n",
    "fig.set_axis_labels('Bicarbonate (parts per million) of well water', 'pH of well water')"
   ]
  },
  {
   "cell_type": "markdown",
   "metadata": {},
   "source": [
    "# Chi-Squared Independence Test:"
   ]
  },
  {
   "cell_type": "markdown",
   "metadata": {},
   "source": [
    "confidence = 0.95\n",
    "\n",
    "Ho: pH level is independent of bicarbonate level (p_value>=0.05)\n",
    "Ha: pH level is dependent of bicarbonate level (p_value<0.05)\n",
    "\n",
    "formula: chi2_stat = ∑ (O-E)²/E\n",
    "         where O = original value, E = expected value"
   ]
  },
  {
   "cell_type": "code",
   "execution_count": 24,
   "metadata": {},
   "outputs": [
    {
     "data": {
      "text/html": [
       "<div>\n",
       "<style scoped>\n",
       "    .dataframe tbody tr th:only-of-type {\n",
       "        vertical-align: middle;\n",
       "    }\n",
       "\n",
       "    .dataframe tbody tr th {\n",
       "        vertical-align: top;\n",
       "    }\n",
       "\n",
       "    .dataframe thead th {\n",
       "        text-align: right;\n",
       "    }\n",
       "</style>\n",
       "<table border=\"1\" class=\"dataframe\">\n",
       "  <thead>\n",
       "    <tr style=\"text-align: right;\">\n",
       "      <th></th>\n",
       "      <th>pH-Range</th>\n",
       "      <th>Unnamed: 1</th>\n",
       "      <th>bicarbonate(ppm)</th>\n",
       "      <th>Unnamed: 3</th>\n",
       "      <th>Unnamed: 4</th>\n",
       "    </tr>\n",
       "  </thead>\n",
       "  <tbody>\n",
       "    <tr>\n",
       "      <th>0</th>\n",
       "      <td>NaN</td>\n",
       "      <td>0-100</td>\n",
       "      <td>100-200</td>\n",
       "      <td>200-300</td>\n",
       "      <td>Total</td>\n",
       "    </tr>\n",
       "    <tr>\n",
       "      <th>1</th>\n",
       "      <td>6.5-7</td>\n",
       "      <td>0</td>\n",
       "      <td>2</td>\n",
       "      <td>0</td>\n",
       "      <td>2</td>\n",
       "    </tr>\n",
       "    <tr>\n",
       "      <th>2</th>\n",
       "      <td>7-7.5</td>\n",
       "      <td>2</td>\n",
       "      <td>9</td>\n",
       "      <td>3</td>\n",
       "      <td>14</td>\n",
       "    </tr>\n",
       "    <tr>\n",
       "      <th>3</th>\n",
       "      <td>7.5-8</td>\n",
       "      <td>2</td>\n",
       "      <td>8</td>\n",
       "      <td>0</td>\n",
       "      <td>10</td>\n",
       "    </tr>\n",
       "    <tr>\n",
       "      <th>4</th>\n",
       "      <td>8.-8.5</td>\n",
       "      <td>4</td>\n",
       "      <td>1</td>\n",
       "      <td>2</td>\n",
       "      <td>7</td>\n",
       "    </tr>\n",
       "    <tr>\n",
       "      <th>5</th>\n",
       "      <td>8.5-9</td>\n",
       "      <td>0</td>\n",
       "      <td>1</td>\n",
       "      <td>0</td>\n",
       "      <td>1</td>\n",
       "    </tr>\n",
       "    <tr>\n",
       "      <th>6</th>\n",
       "      <td>Total</td>\n",
       "      <td>8</td>\n",
       "      <td>21</td>\n",
       "      <td>5</td>\n",
       "      <td>34</td>\n",
       "    </tr>\n",
       "  </tbody>\n",
       "</table>\n",
       "</div>"
      ],
      "text/plain": [
       "  pH-Range Unnamed: 1 bicarbonate(ppm) Unnamed: 3 Unnamed: 4\n",
       "0      NaN      0-100          100-200    200-300      Total\n",
       "1    6.5-7          0                2          0          2\n",
       "2    7-7.5          2                9          3         14\n",
       "3    7.5-8          2                8          0         10\n",
       "4   8.-8.5          4                1          2          7\n",
       "5    8.5-9          0                1          0          1\n",
       "6    Total          8               21          5         34"
      ]
     },
     "execution_count": 24,
     "metadata": {},
     "output_type": "execute_result"
    }
   ],
   "source": [
    "table=pd.read_csv(\"chi2_table.csv\")\n",
    "table"
   ]
  },
  {
   "cell_type": "markdown",
   "metadata": {},
   "source": [
    "making it into workable dataframe"
   ]
  },
  {
   "cell_type": "code",
   "execution_count": 25,
   "metadata": {},
   "outputs": [
    {
     "data": {
      "text/plain": [
       "array([[0, 2, 0],\n",
       "       [2, 9, 3],\n",
       "       [2, 8, 0],\n",
       "       [4, 1, 2],\n",
       "       [0, 1, 0]])"
      ]
     },
     "execution_count": 25,
     "metadata": {},
     "output_type": "execute_result"
    }
   ],
   "source": [
    "a1=[0,2,0]\n",
    "a2=[2,9,3]\n",
    "a3=[2,8,0]\n",
    "a4=[4,1,2]\n",
    "a5=[0,1,0]\n",
    "water=np.array([a1,a2,a3,a4,a5])\n",
    "water"
   ]
  },
  {
   "cell_type": "code",
   "execution_count": 26,
   "metadata": {},
   "outputs": [],
   "source": [
    "chi2_stat, p_val, dof, ex = stats.chi2_contingency(water)"
   ]
  },
  {
   "cell_type": "code",
   "execution_count": 27,
   "metadata": {},
   "outputs": [
    {
     "name": "stdout",
     "output_type": "stream",
     "text": [
      "===Chi2 Stat===\n",
      "11.703401360544216\n",
      "\n",
      "\n",
      "===Degrees of Freedom===\n",
      "8\n",
      "\n",
      "\n",
      "===P-Value===\n",
      "0.16493604243009805\n",
      "\n",
      "\n",
      "===Contingency Table===\n",
      "[[0.47058824 1.23529412 0.29411765]\n",
      " [3.29411765 8.64705882 2.05882353]\n",
      " [2.35294118 6.17647059 1.47058824]\n",
      " [1.64705882 4.32352941 1.02941176]\n",
      " [0.23529412 0.61764706 0.14705882]]\n"
     ]
    }
   ],
   "source": [
    "print(\"===Chi2 Stat===\")\n",
    "print(chi2_stat)\n",
    "print(\"\\n\")\n",
    "print(\"===Degrees of Freedom===\")\n",
    "print(dof)\n",
    "print(\"\\n\")\n",
    "print(\"===P-Value===\")\n",
    "print(p_val)\n",
    "print(\"\\n\")\n",
    "print(\"===Contingency Table===\")\n",
    "print(ex)"
   ]
  },
  {
   "cell_type": "code",
   "execution_count": 28,
   "metadata": {},
   "outputs": [
    {
     "name": "stdout",
     "output_type": "stream",
     "text": [
      "Null Hypothesis Not Rejected\n"
     ]
    }
   ],
   "source": [
    "if p_val<0.05:\n",
    "    print(\"Null Hypothesis Rejected\")\n",
    "else:\n",
    "    print(\"Null Hypothesis Not Rejected\")"
   ]
  },
  {
   "cell_type": "markdown",
   "metadata": {},
   "source": [
    "Conclusion-"
   ]
  },
  {
   "cell_type": "markdown",
   "metadata": {},
   "source": [
    "as p_value of 0.16493604243009805 is >= 0.05\n",
    "Null Hypothesis Not Rejected"
   ]
  },
  {
   "cell_type": "markdown",
   "metadata": {},
   "source": [
    "# Conclusion"
   ]
  },
  {
   "cell_type": "markdown",
   "metadata": {},
   "source": [
    "The conclusion is:-\n",
    ">We can see in regression graph that the value of bicarbonate increases in water the pH of water is decrasing to neutral     level(pH=7)\n",
    "\n"
   ]
  },
  {
   "cell_type": "markdown",
   "metadata": {},
   "source": [
    "The same is proven the chi-square independence test,that pH and bicarbonate levels are independent.\n",
    ">so We conclude that bicarbonate is a alkaine substance which acts as a buffer and doesn't let Ph of solution change as we add more acidic substance in the solution.\n",
    ">Bi-carbonate is not basic in nature"
   ]
  },
  {
   "cell_type": "code",
   "execution_count": null,
   "metadata": {},
   "outputs": [],
   "source": []
  }
 ],
 "metadata": {
  "kernelspec": {
   "display_name": "Python 3",
   "language": "python",
   "name": "python3"
  },
  "language_info": {
   "codemirror_mode": {
    "name": "ipython",
    "version": 3
   },
   "file_extension": ".py",
   "mimetype": "text/x-python",
   "name": "python",
   "nbconvert_exporter": "python",
   "pygments_lexer": "ipython3",
   "version": "3.7.3"
  }
 },
 "nbformat": 4,
 "nbformat_minor": 2
}
